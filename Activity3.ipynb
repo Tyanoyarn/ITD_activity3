{
 "cells": [
  {
   "cell_type": "code",
   "execution_count": 1,
   "id": "3339924e-a1ce-4e4d-8cb2-d847cf88893e",
   "metadata": {},
   "outputs": [
    {
     "name": "stdout",
     "output_type": "stream",
     "text": [
      "Defaulting to user installation because normal site-packages is not writeableNote: you may need to restart the kernel to use updated packages.\n",
      "\n",
      "Requirement already satisfied: numpy in c:\\users\\lab5-studentpc13\\appdata\\local\\packages\\pythonsoftwarefoundation.python.3.13_qbz5n2kfra8p0\\localcache\\local-packages\\python313\\site-packages (2.2.2)\n"
     ]
    },
    {
     "name": "stderr",
     "output_type": "stream",
     "text": [
      "\n",
      "[notice] A new release of pip is available: 24.3.1 -> 25.0.1\n",
      "[notice] To update, run: C:\\Users\\LAB5-StudentPC13\\AppData\\Local\\Microsoft\\WindowsApps\\PythonSoftwareFoundation.Python.3.13_qbz5n2kfra8p0\\python.exe -m pip install --upgrade pip\n"
     ]
    }
   ],
   "source": [
    "pip install numpy"
   ]
  },
  {
   "cell_type": "code",
   "execution_count": 2,
   "id": "37faf34d-83ba-4bc7-b078-601ce1d3bb68",
   "metadata": {},
   "outputs": [
    {
     "name": "stdout",
     "output_type": "stream",
     "text": [
      "Defaulting to user installation because normal site-packages is not writeable\n",
      "Requirement already satisfied: pandas in c:\\users\\lab5-studentpc13\\appdata\\local\\packages\\pythonsoftwarefoundation.python.3.13_qbz5n2kfra8p0\\localcache\\local-packages\\python313\\site-packages (2.2.3)\n",
      "Requirement already satisfied: numpy>=1.26.0 in c:\\users\\lab5-studentpc13\\appdata\\local\\packages\\pythonsoftwarefoundation.python.3.13_qbz5n2kfra8p0\\localcache\\local-packages\\python313\\site-packages (from pandas) (2.2.2)\n",
      "Requirement already satisfied: python-dateutil>=2.8.2 in c:\\users\\lab5-studentpc13\\appdata\\local\\packages\\pythonsoftwarefoundation.python.3.13_qbz5n2kfra8p0\\localcache\\local-packages\\python313\\site-packages (from pandas) (2.9.0.post0)\n",
      "Requirement already satisfied: pytz>=2020.1 in c:\\users\\lab5-studentpc13\\appdata\\local\\packages\\pythonsoftwarefoundation.python.3.13_qbz5n2kfra8p0\\localcache\\local-packages\\python313\\site-packages (from pandas) (2024.2)\n",
      "Requirement already satisfied: tzdata>=2022.7 in c:\\users\\lab5-studentpc13\\appdata\\local\\packages\\pythonsoftwarefoundation.python.3.13_qbz5n2kfra8p0\\localcache\\local-packages\\python313\\site-packages (from pandas) (2024.2)\n",
      "Requirement already satisfied: six>=1.5 in c:\\users\\lab5-studentpc13\\appdata\\local\\packages\\pythonsoftwarefoundation.python.3.13_qbz5n2kfra8p0\\localcache\\local-packages\\python313\\site-packages (from python-dateutil>=2.8.2->pandas) (1.17.0)\n",
      "Note: you may need to restart the kernel to use updated packages.\n"
     ]
    },
    {
     "name": "stderr",
     "output_type": "stream",
     "text": [
      "\n",
      "[notice] A new release of pip is available: 24.3.1 -> 25.0.1\n",
      "[notice] To update, run: C:\\Users\\LAB5-StudentPC13\\AppData\\Local\\Microsoft\\WindowsApps\\PythonSoftwareFoundation.Python.3.13_qbz5n2kfra8p0\\python.exe -m pip install --upgrade pip\n"
     ]
    }
   ],
   "source": [
    "pip install pandas"
   ]
  },
  {
   "cell_type": "code",
   "execution_count": 3,
   "id": "b9ffb591-ca2d-4990-9ad8-b765944eef40",
   "metadata": {},
   "outputs": [
    {
     "name": "stdout",
     "output_type": "stream",
     "text": [
      "Defaulting to user installation because normal site-packages is not writeableNote: you may need to restart the kernel to use updated packages.\n"
     ]
    },
    {
     "name": "stderr",
     "output_type": "stream",
     "text": [
      "\n",
      "[notice] A new release of pip is available: 24.3.1 -> 25.0.1\n",
      "[notice] To update, run: C:\\Users\\LAB5-StudentPC13\\AppData\\Local\\Microsoft\\WindowsApps\\PythonSoftwareFoundation.Python.3.13_qbz5n2kfra8p0\\python.exe -m pip install --upgrade pip\n"
     ]
    },
    {
     "name": "stdout",
     "output_type": "stream",
     "text": [
      "\n",
      "Requirement already satisfied: matplotlib in c:\\users\\lab5-studentpc13\\appdata\\local\\packages\\pythonsoftwarefoundation.python.3.13_qbz5n2kfra8p0\\localcache\\local-packages\\python313\\site-packages (3.10.0)\n",
      "Requirement already satisfied: contourpy>=1.0.1 in c:\\users\\lab5-studentpc13\\appdata\\local\\packages\\pythonsoftwarefoundation.python.3.13_qbz5n2kfra8p0\\localcache\\local-packages\\python313\\site-packages (from matplotlib) (1.3.1)\n",
      "Requirement already satisfied: cycler>=0.10 in c:\\users\\lab5-studentpc13\\appdata\\local\\packages\\pythonsoftwarefoundation.python.3.13_qbz5n2kfra8p0\\localcache\\local-packages\\python313\\site-packages (from matplotlib) (0.12.1)\n",
      "Requirement already satisfied: fonttools>=4.22.0 in c:\\users\\lab5-studentpc13\\appdata\\local\\packages\\pythonsoftwarefoundation.python.3.13_qbz5n2kfra8p0\\localcache\\local-packages\\python313\\site-packages (from matplotlib) (4.55.3)\n",
      "Requirement already satisfied: kiwisolver>=1.3.1 in c:\\users\\lab5-studentpc13\\appdata\\local\\packages\\pythonsoftwarefoundation.python.3.13_qbz5n2kfra8p0\\localcache\\local-packages\\python313\\site-packages (from matplotlib) (1.4.8)\n",
      "Requirement already satisfied: numpy>=1.23 in c:\\users\\lab5-studentpc13\\appdata\\local\\packages\\pythonsoftwarefoundation.python.3.13_qbz5n2kfra8p0\\localcache\\local-packages\\python313\\site-packages (from matplotlib) (2.2.2)\n",
      "Requirement already satisfied: packaging>=20.0 in c:\\users\\lab5-studentpc13\\appdata\\local\\packages\\pythonsoftwarefoundation.python.3.13_qbz5n2kfra8p0\\localcache\\local-packages\\python313\\site-packages (from matplotlib) (24.2)\n",
      "Requirement already satisfied: pillow>=8 in c:\\users\\lab5-studentpc13\\appdata\\local\\packages\\pythonsoftwarefoundation.python.3.13_qbz5n2kfra8p0\\localcache\\local-packages\\python313\\site-packages (from matplotlib) (11.1.0)\n",
      "Requirement already satisfied: pyparsing>=2.3.1 in c:\\users\\lab5-studentpc13\\appdata\\local\\packages\\pythonsoftwarefoundation.python.3.13_qbz5n2kfra8p0\\localcache\\local-packages\\python313\\site-packages (from matplotlib) (3.2.1)\n",
      "Requirement already satisfied: python-dateutil>=2.7 in c:\\users\\lab5-studentpc13\\appdata\\local\\packages\\pythonsoftwarefoundation.python.3.13_qbz5n2kfra8p0\\localcache\\local-packages\\python313\\site-packages (from matplotlib) (2.9.0.post0)\n",
      "Requirement already satisfied: six>=1.5 in c:\\users\\lab5-studentpc13\\appdata\\local\\packages\\pythonsoftwarefoundation.python.3.13_qbz5n2kfra8p0\\localcache\\local-packages\\python313\\site-packages (from python-dateutil>=2.7->matplotlib) (1.17.0)\n"
     ]
    }
   ],
   "source": [
    "pip install matplotlib"
   ]
  },
  {
   "cell_type": "code",
   "execution_count": 4,
   "id": "38770d2b-8d3d-4348-9662-2ebf59a11c8e",
   "metadata": {},
   "outputs": [
    {
     "name": "stdout",
     "output_type": "stream",
     "text": [
      "Defaulting to user installation because normal site-packages is not writeable\n",
      "Requirement already satisfied: seaborn in c:\\users\\lab5-studentpc13\\appdata\\local\\packages\\pythonsoftwarefoundation.python.3.13_qbz5n2kfra8p0\\localcache\\local-packages\\python313\\site-packages (0.13.2)\n",
      "Requirement already satisfied: numpy!=1.24.0,>=1.20 in c:\\users\\lab5-studentpc13\\appdata\\local\\packages\\pythonsoftwarefoundation.python.3.13_qbz5n2kfra8p0\\localcache\\local-packages\\python313\\site-packages (from seaborn) (2.2.2)\n",
      "Requirement already satisfied: pandas>=1.2 in c:\\users\\lab5-studentpc13\\appdata\\local\\packages\\pythonsoftwarefoundation.python.3.13_qbz5n2kfra8p0\\localcache\\local-packages\\python313\\site-packages (from seaborn) (2.2.3)\n",
      "Requirement already satisfied: matplotlib!=3.6.1,>=3.4 in c:\\users\\lab5-studentpc13\\appdata\\local\\packages\\pythonsoftwarefoundation.python.3.13_qbz5n2kfra8p0\\localcache\\local-packages\\python313\\site-packages (from seaborn) (3.10.0)\n",
      "Requirement already satisfied: contourpy>=1.0.1 in c:\\users\\lab5-studentpc13\\appdata\\local\\packages\\pythonsoftwarefoundation.python.3.13_qbz5n2kfra8p0\\localcache\\local-packages\\python313\\site-packages (from matplotlib!=3.6.1,>=3.4->seaborn) (1.3.1)\n",
      "Requirement already satisfied: cycler>=0.10 in c:\\users\\lab5-studentpc13\\appdata\\local\\packages\\pythonsoftwarefoundation.python.3.13_qbz5n2kfra8p0\\localcache\\local-packages\\python313\\site-packages (from matplotlib!=3.6.1,>=3.4->seaborn) (0.12.1)\n",
      "Requirement already satisfied: fonttools>=4.22.0 in c:\\users\\lab5-studentpc13\\appdata\\local\\packages\\pythonsoftwarefoundation.python.3.13_qbz5n2kfra8p0\\localcache\\local-packages\\python313\\site-packages (from matplotlib!=3.6.1,>=3.4->seaborn) (4.55.3)\n",
      "Requirement already satisfied: kiwisolver>=1.3.1 in c:\\users\\lab5-studentpc13\\appdata\\local\\packages\\pythonsoftwarefoundation.python.3.13_qbz5n2kfra8p0\\localcache\\local-packages\\python313\\site-packages (from matplotlib!=3.6.1,>=3.4->seaborn) (1.4.8)\n",
      "Requirement already satisfied: packaging>=20.0 in c:\\users\\lab5-studentpc13\\appdata\\local\\packages\\pythonsoftwarefoundation.python.3.13_qbz5n2kfra8p0\\localcache\\local-packages\\python313\\site-packages (from matplotlib!=3.6.1,>=3.4->seaborn) (24.2)\n",
      "Requirement already satisfied: pillow>=8 in c:\\users\\lab5-studentpc13\\appdata\\local\\packages\\pythonsoftwarefoundation.python.3.13_qbz5n2kfra8p0\\localcache\\local-packages\\python313\\site-packages (from matplotlib!=3.6.1,>=3.4->seaborn) (11.1.0)\n",
      "Requirement already satisfied: pyparsing>=2.3.1 in c:\\users\\lab5-studentpc13\\appdata\\local\\packages\\pythonsoftwarefoundation.python.3.13_qbz5n2kfra8p0\\localcache\\local-packages\\python313\\site-packages (from matplotlib!=3.6.1,>=3.4->seaborn) (3.2.1)\n",
      "Requirement already satisfied: python-dateutil>=2.7 in c:\\users\\lab5-studentpc13\\appdata\\local\\packages\\pythonsoftwarefoundation.python.3.13_qbz5n2kfra8p0\\localcache\\local-packages\\python313\\site-packages (from matplotlib!=3.6.1,>=3.4->seaborn) (2.9.0.post0)\n",
      "Requirement already satisfied: pytz>=2020.1 in c:\\users\\lab5-studentpc13\\appdata\\local\\packages\\pythonsoftwarefoundation.python.3.13_qbz5n2kfra8p0\\localcache\\local-packages\\python313\\site-packages (from pandas>=1.2->seaborn) (2024.2)\n",
      "Requirement already satisfied: tzdata>=2022.7 in c:\\users\\lab5-studentpc13\\appdata\\local\\packages\\pythonsoftwarefoundation.python.3.13_qbz5n2kfra8p0\\localcache\\local-packages\\python313\\site-packages (from pandas>=1.2->seaborn) (2024.2)\n",
      "Requirement already satisfied: six>=1.5 in c:\\users\\lab5-studentpc13\\appdata\\local\\packages\\pythonsoftwarefoundation.python.3.13_qbz5n2kfra8p0\\localcache\\local-packages\\python313\\site-packages (from python-dateutil>=2.7->matplotlib!=3.6.1,>=3.4->seaborn) (1.17.0)\n",
      "Note: you may need to restart the kernel to use updated packages.\n"
     ]
    },
    {
     "name": "stderr",
     "output_type": "stream",
     "text": [
      "\n",
      "[notice] A new release of pip is available: 24.3.1 -> 25.0.1\n",
      "[notice] To update, run: C:\\Users\\LAB5-StudentPC13\\AppData\\Local\\Microsoft\\WindowsApps\\PythonSoftwareFoundation.Python.3.13_qbz5n2kfra8p0\\python.exe -m pip install --upgrade pip\n"
     ]
    }
   ],
   "source": [
    "pip install seaborn"
   ]
  },
  {
   "cell_type": "code",
   "execution_count": 5,
   "id": "b1f6a1ee-2d17-4a6f-b641-6045f207af21",
   "metadata": {},
   "outputs": [
    {
     "name": "stdout",
     "output_type": "stream",
     "text": [
      "Defaulting to user installation because normal site-packages is not writeable\n",
      "Requirement already satisfied: scipy in c:\\users\\lab5-studentpc13\\appdata\\local\\packages\\pythonsoftwarefoundation.python.3.13_qbz5n2kfra8p0\\localcache\\local-packages\\python313\\site-packages (1.15.1)\n",
      "Requirement already satisfied: numpy<2.5,>=1.23.5 in c:\\users\\lab5-studentpc13\\appdata\\local\\packages\\pythonsoftwarefoundation.python.3.13_qbz5n2kfra8p0\\localcache\\local-packages\\python313\\site-packages (from scipy) (2.2.2)\n",
      "Note: you may need to restart the kernel to use updated packages.\n"
     ]
    },
    {
     "name": "stderr",
     "output_type": "stream",
     "text": [
      "\n",
      "[notice] A new release of pip is available: 24.3.1 -> 25.0.1\n",
      "[notice] To update, run: C:\\Users\\LAB5-StudentPC13\\AppData\\Local\\Microsoft\\WindowsApps\\PythonSoftwareFoundation.Python.3.13_qbz5n2kfra8p0\\python.exe -m pip install --upgrade pip\n"
     ]
    }
   ],
   "source": [
    "pip install scipy"
   ]
  },
  {
   "cell_type": "code",
   "execution_count": 6,
   "id": "e61ed4af-8006-4665-9ba8-535925e850b3",
   "metadata": {},
   "outputs": [],
   "source": [
    "import numpy as np"
   ]
  },
  {
   "cell_type": "code",
   "execution_count": 7,
   "id": "564d0640-d7f6-4c4e-bae6-7183ac4d8cb6",
   "metadata": {},
   "outputs": [],
   "source": [
    "import pandas as pd\n",
    "import matplotlib.pyplot as plt\n",
    "import seaborn as sns\n",
    "import scipy.stats \n",
    "from scipy.stats import f_oneway"
   ]
  },
  {
   "cell_type": "markdown",
   "id": "6d4395db-e6bb-46e7-84ad-b45fdf22abc7",
   "metadata": {},
   "source": [
    "<h1>DATA ANALYTICS PROJECT</h1>"
   ]
  },
  {
   "cell_type": "markdown",
   "id": "4293de5f-f25a-4294-96d3-6e638117cd2c",
   "metadata": {},
   "source": [
    "<H2>PROJECT: UNITED KINGDOM ROAD ACCIDENT DATA ANALYSIS</H2>\n",
    "<H2>INCLUSIVE YEARS: 2019 - 2022</H2>\n",
    "<H3>ANALYST: MARC CHRISTIAN MACARAIG</H3>"
   ]
  },
  {
   "cell_type": "code",
   "execution_count": 8,
   "id": "83448a0e-8102-4c1d-8da1-0147d7f7ec29",
   "metadata": {},
   "outputs": [],
   "source": [
    "accident = pd.read_csv('dataset\\\\accident_data.csv')"
   ]
  },
  {
   "cell_type": "code",
   "execution_count": 9,
   "id": "da994d7e-3d6d-441d-ba4f-68f8aa6ffe97",
   "metadata": {},
   "outputs": [
    {
     "data": {
      "text/html": [
       "<div>\n",
       "<style scoped>\n",
       "    .dataframe tbody tr th:only-of-type {\n",
       "        vertical-align: middle;\n",
       "    }\n",
       "\n",
       "    .dataframe tbody tr th {\n",
       "        vertical-align: top;\n",
       "    }\n",
       "\n",
       "    .dataframe thead th {\n",
       "        text-align: right;\n",
       "    }\n",
       "</style>\n",
       "<table border=\"1\" class=\"dataframe\">\n",
       "  <thead>\n",
       "    <tr style=\"text-align: right;\">\n",
       "      <th></th>\n",
       "      <th>Latitude</th>\n",
       "      <th>Longitude</th>\n",
       "      <th>Number_of_Casualties</th>\n",
       "      <th>Number_of_Vehicles</th>\n",
       "    </tr>\n",
       "  </thead>\n",
       "  <tbody>\n",
       "    <tr>\n",
       "      <th>count</th>\n",
       "      <td>660654.000000</td>\n",
       "      <td>660653.000000</td>\n",
       "      <td>660679.000000</td>\n",
       "      <td>660679.000000</td>\n",
       "    </tr>\n",
       "    <tr>\n",
       "      <th>mean</th>\n",
       "      <td>52.553866</td>\n",
       "      <td>-1.431210</td>\n",
       "      <td>1.357040</td>\n",
       "      <td>1.831255</td>\n",
       "    </tr>\n",
       "    <tr>\n",
       "      <th>std</th>\n",
       "      <td>1.406922</td>\n",
       "      <td>1.383330</td>\n",
       "      <td>0.824847</td>\n",
       "      <td>0.715269</td>\n",
       "    </tr>\n",
       "    <tr>\n",
       "      <th>min</th>\n",
       "      <td>49.914430</td>\n",
       "      <td>-7.516225</td>\n",
       "      <td>1.000000</td>\n",
       "      <td>1.000000</td>\n",
       "    </tr>\n",
       "    <tr>\n",
       "      <th>25%</th>\n",
       "      <td>51.490690</td>\n",
       "      <td>-2.332291</td>\n",
       "      <td>1.000000</td>\n",
       "      <td>1.000000</td>\n",
       "    </tr>\n",
       "    <tr>\n",
       "      <th>50%</th>\n",
       "      <td>52.315641</td>\n",
       "      <td>-1.411667</td>\n",
       "      <td>1.000000</td>\n",
       "      <td>2.000000</td>\n",
       "    </tr>\n",
       "    <tr>\n",
       "      <th>75%</th>\n",
       "      <td>53.453452</td>\n",
       "      <td>-0.232869</td>\n",
       "      <td>1.000000</td>\n",
       "      <td>2.000000</td>\n",
       "    </tr>\n",
       "    <tr>\n",
       "      <th>max</th>\n",
       "      <td>60.757544</td>\n",
       "      <td>1.762010</td>\n",
       "      <td>68.000000</td>\n",
       "      <td>32.000000</td>\n",
       "    </tr>\n",
       "  </tbody>\n",
       "</table>\n",
       "</div>"
      ],
      "text/plain": [
       "            Latitude      Longitude  Number_of_Casualties  Number_of_Vehicles\n",
       "count  660654.000000  660653.000000         660679.000000       660679.000000\n",
       "mean       52.553866      -1.431210              1.357040            1.831255\n",
       "std         1.406922       1.383330              0.824847            0.715269\n",
       "min        49.914430      -7.516225              1.000000            1.000000\n",
       "25%        51.490690      -2.332291              1.000000            1.000000\n",
       "50%        52.315641      -1.411667              1.000000            2.000000\n",
       "75%        53.453452      -0.232869              1.000000            2.000000\n",
       "max        60.757544       1.762010             68.000000           32.000000"
      ]
     },
     "execution_count": 9,
     "metadata": {},
     "output_type": "execute_result"
    }
   ],
   "source": [
    "accident.describe()"
   ]
  },
  {
   "cell_type": "code",
   "execution_count": 10,
   "id": "b57cac19-113b-42fa-8847-6c1f0d045376",
   "metadata": {},
   "outputs": [
    {
     "data": {
      "text/plain": [
       "Index                       object\n",
       "Accident_Severity           object\n",
       "Accident Date               object\n",
       "Latitude                   float64\n",
       "Light_Conditions            object\n",
       "District Area               object\n",
       "Longitude                  float64\n",
       "Number_of_Casualties         int64\n",
       "Number_of_Vehicles           int64\n",
       "Road_Surface_Conditions     object\n",
       "Road_Type                   object\n",
       "Urban_or_Rural_Area         object\n",
       "Weather_Conditions          object\n",
       "Vehicle_Type                object\n",
       "dtype: object"
      ]
     },
     "execution_count": 10,
     "metadata": {},
     "output_type": "execute_result"
    }
   ],
   "source": [
    "accident.dtypes"
   ]
  },
  {
   "cell_type": "markdown",
   "id": "08ce4631-ebee-4cbc-90d2-b376ea94eb0e",
   "metadata": {},
   "source": [
    "<h1>DATA CLEANSING</h1>"
   ]
  },
  {
   "cell_type": "code",
   "execution_count": 11,
   "id": "b0537332-b429-4150-96a5-3705f683b8db",
   "metadata": {},
   "outputs": [
    {
     "data": {
      "text/plain": [
       "Index                          0\n",
       "Accident_Severity              0\n",
       "Accident Date                  0\n",
       "Latitude                      25\n",
       "Light_Conditions               0\n",
       "District Area                  0\n",
       "Longitude                     26\n",
       "Number_of_Casualties           0\n",
       "Number_of_Vehicles             0\n",
       "Road_Surface_Conditions      726\n",
       "Road_Type                   4520\n",
       "Urban_or_Rural_Area           15\n",
       "Weather_Conditions         14128\n",
       "Vehicle_Type                   0\n",
       "dtype: int64"
      ]
     },
     "execution_count": 11,
     "metadata": {},
     "output_type": "execute_result"
    }
   ],
   "source": [
    "accident.isnull().sum()"
   ]
  },
  {
   "cell_type": "code",
   "execution_count": 12,
   "id": "6cfda6e7-b098-4141-8e15-6b699c1da7f6",
   "metadata": {},
   "outputs": [],
   "source": [
    "accident['Latitude'] = accident['Latitude'].fillna(accident['Latitude'].mode()[0])\n",
    "accident['Longitude'] = accident['Longitude'].fillna(accident['Longitude'].mode()[0])\n",
    "accident['Road_Surface_Conditions'] = accident['Road_Surface_Conditions'].fillna('unaccounted')\n",
    "accident['Road_Type'] = accident['Road_Type'].fillna('unaccounted')\n",
    "accident['Weather_Conditions'] = accident['Weather_Conditions'].fillna('unaccounted')\n",
    "accident['Urban_or_Rural_Area'] = accident['Urban_or_Rural_Area'].fillna('unaccounted')"
   ]
  },
  {
   "cell_type": "code",
   "execution_count": 13,
   "id": "44d44d9b-3962-4528-9288-8fda3d17d6f4",
   "metadata": {},
   "outputs": [
    {
     "data": {
      "text/plain": [
       "Index                      0\n",
       "Accident_Severity          0\n",
       "Accident Date              0\n",
       "Latitude                   0\n",
       "Light_Conditions           0\n",
       "District Area              0\n",
       "Longitude                  0\n",
       "Number_of_Casualties       0\n",
       "Number_of_Vehicles         0\n",
       "Road_Surface_Conditions    0\n",
       "Road_Type                  0\n",
       "Urban_or_Rural_Area        0\n",
       "Weather_Conditions         0\n",
       "Vehicle_Type               0\n",
       "dtype: int64"
      ]
     },
     "execution_count": 13,
     "metadata": {},
     "output_type": "execute_result"
    }
   ],
   "source": [
    "accident.isnull().sum()"
   ]
  },
  {
   "cell_type": "code",
   "execution_count": 14,
   "id": "39dcfc47-02e9-4b52-a62f-dbd510b0e6d4",
   "metadata": {},
   "outputs": [],
   "source": [
    "accident['Accident_Severity'] = accident['Accident_Severity'].astype('category')"
   ]
  },
  {
   "cell_type": "code",
   "execution_count": 15,
   "id": "5086ec09-c4ef-48fa-b155-9d326488dea0",
   "metadata": {},
   "outputs": [
    {
     "data": {
      "text/plain": [
       "Accident_Severity\n",
       "Slight     563801\n",
       "Serious     88217\n",
       "Fatal        8661\n",
       "Name: count, dtype: int64"
      ]
     },
     "execution_count": 15,
     "metadata": {},
     "output_type": "execute_result"
    }
   ],
   "source": [
    "accident['Accident_Severity'].value_counts()"
   ]
  },
  {
   "cell_type": "code",
   "execution_count": 16,
   "id": "b4b8ac6f-d0fa-432d-8c91-d2d7deca41b0",
   "metadata": {},
   "outputs": [
    {
     "data": {
      "text/plain": [
       "Index                        object\n",
       "Accident_Severity          category\n",
       "Accident Date                object\n",
       "Latitude                    float64\n",
       "Light_Conditions             object\n",
       "District Area                object\n",
       "Longitude                   float64\n",
       "Number_of_Casualties          int64\n",
       "Number_of_Vehicles            int64\n",
       "Road_Surface_Conditions      object\n",
       "Road_Type                    object\n",
       "Urban_or_Rural_Area          object\n",
       "Weather_Conditions           object\n",
       "Vehicle_Type                 object\n",
       "dtype: object"
      ]
     },
     "execution_count": 16,
     "metadata": {},
     "output_type": "execute_result"
    }
   ],
   "source": [
    "accident.dtypes"
   ]
  },
  {
   "cell_type": "markdown",
   "id": "6560dcf2-dcd0-43b6-808a-1a2428523625",
   "metadata": {},
   "source": [
    "<h1>CONVERTING OBJECT TO DATETIME DATA TYPE</h1>"
   ]
  },
  {
   "cell_type": "code",
   "execution_count": 17,
   "id": "89b80a4e-e188-4248-9fbc-c532144373d7",
   "metadata": {},
   "outputs": [],
   "source": [
    "accident['Accident Date'] = pd.to_datetime(accident['Accident Date'], dayfirst = True, errors = 'coerce')"
   ]
  },
  {
   "cell_type": "code",
   "execution_count": 18,
   "id": "26651cfe-df04-42d1-ac6a-9590571a95e0",
   "metadata": {},
   "outputs": [
    {
     "data": {
      "text/plain": [
       "Index                      0\n",
       "Accident_Severity          0\n",
       "Accident Date              0\n",
       "Latitude                   0\n",
       "Light_Conditions           0\n",
       "District Area              0\n",
       "Longitude                  0\n",
       "Number_of_Casualties       0\n",
       "Number_of_Vehicles         0\n",
       "Road_Surface_Conditions    0\n",
       "Road_Type                  0\n",
       "Urban_or_Rural_Area        0\n",
       "Weather_Conditions         0\n",
       "Vehicle_Type               0\n",
       "dtype: int64"
      ]
     },
     "execution_count": 18,
     "metadata": {},
     "output_type": "execute_result"
    }
   ],
   "source": [
    "accident.isnull().sum()"
   ]
  },
  {
   "cell_type": "code",
   "execution_count": 19,
   "id": "61cd8fba-32fc-49fe-9cd9-c86a4442506d",
   "metadata": {},
   "outputs": [
    {
     "data": {
      "text/plain": [
       "Index                              object\n",
       "Accident_Severity                category\n",
       "Accident Date              datetime64[ns]\n",
       "Latitude                          float64\n",
       "Light_Conditions                   object\n",
       "District Area                      object\n",
       "Longitude                         float64\n",
       "Number_of_Casualties                int64\n",
       "Number_of_Vehicles                  int64\n",
       "Road_Surface_Conditions            object\n",
       "Road_Type                          object\n",
       "Urban_or_Rural_Area                object\n",
       "Weather_Conditions                 object\n",
       "Vehicle_Type                       object\n",
       "dtype: object"
      ]
     },
     "execution_count": 19,
     "metadata": {},
     "output_type": "execute_result"
    }
   ],
   "source": [
    "accident.dtypes"
   ]
  },
  {
   "cell_type": "code",
   "execution_count": 20,
   "id": "48c0089c-33c0-4650-bfe5-4ae37e69b349",
   "metadata": {},
   "outputs": [
    {
     "name": "stdout",
     "output_type": "stream",
     "text": [
      "<class 'pandas.core.frame.DataFrame'>\n",
      "RangeIndex: 660679 entries, 0 to 660678\n",
      "Data columns (total 14 columns):\n",
      " #   Column                   Non-Null Count   Dtype         \n",
      "---  ------                   --------------   -----         \n",
      " 0   Index                    660679 non-null  object        \n",
      " 1   Accident_Severity        660679 non-null  category      \n",
      " 2   Accident Date            660679 non-null  datetime64[ns]\n",
      " 3   Latitude                 660679 non-null  float64       \n",
      " 4   Light_Conditions         660679 non-null  object        \n",
      " 5   District Area            660679 non-null  object        \n",
      " 6   Longitude                660679 non-null  float64       \n",
      " 7   Number_of_Casualties     660679 non-null  int64         \n",
      " 8   Number_of_Vehicles       660679 non-null  int64         \n",
      " 9   Road_Surface_Conditions  660679 non-null  object        \n",
      " 10  Road_Type                660679 non-null  object        \n",
      " 11  Urban_or_Rural_Area      660679 non-null  object        \n",
      " 12  Weather_Conditions       660679 non-null  object        \n",
      " 13  Vehicle_Type             660679 non-null  object        \n",
      "dtypes: category(1), datetime64[ns](1), float64(2), int64(2), object(8)\n",
      "memory usage: 66.2+ MB\n"
     ]
    }
   ],
   "source": [
    "accident.info()"
   ]
  },
  {
   "cell_type": "markdown",
   "id": "d736a000-1b57-4255-b653-aa3f0dbf2ae9",
   "metadata": {},
   "source": [
    "<h1>INSIGHT 1</h1>\n",
    "<H1>What proportion of accidents fall under each severity level?</H1>"
   ]
  },
  {
   "cell_type": "code",
   "execution_count": 21,
   "id": "44997d1b-89b3-4b12-9704-45b19b628708",
   "metadata": {},
   "outputs": [
    {
     "name": "stdout",
     "output_type": "stream",
     "text": [
      "Accident Severity Distribution:\n",
      " Accident_Severity\n",
      "Slight     85.336601\n",
      "Serious    13.352475\n",
      "Fatal       1.310924\n",
      "Name: proportion, dtype: float64\n"
     ]
    }
   ],
   "source": [
    "severity_distribution = accident['Accident_Severity'].value_counts(normalize=True) * 100\n",
    "print(\"Accident Severity Distribution:\\n\", severity_distribution)"
   ]
  },
  {
   "cell_type": "markdown",
   "id": "85fb6e62-c2ae-44b0-923a-23b258e64c69",
   "metadata": {},
   "source": [
    "<h3>-The result shows that among the three accident severity categories, \"Slight Accidents\" account for the highest proportion at 85.33%, indicating that minor collisions (e.g., fender benders, low-speed impacts) are the most frequent type of road incident.</h3>"
   ]
  },
  {
   "cell_type": "markdown",
   "id": "0308b98c-45c5-46bb-9ba9-26382ac40136",
   "metadata": {},
   "source": [
    "<h1>INSIGHT 2</h1>\n",
    "<H1>EXCTRACTING DATA INFORMATION USING PANDAS DATE TIME</H1>"
   ]
  },
  {
   "cell_type": "code",
   "execution_count": 22,
   "id": "a56faaad-1500-412a-a4ad-a16b541010bf",
   "metadata": {},
   "outputs": [],
   "source": [
    "accident['Year'] = accident['Accident Date'].dt.year\n",
    "accident['Month'] = accident['Accident Date'].dt.month\n",
    "accident['Day'] = accident['Accident Date'].dt.day\n",
    "accident['DayOfWeek'] = accident['Accident Date'].dt.dayofweek"
   ]
  },
  {
   "cell_type": "code",
   "execution_count": 23,
   "id": "69ca8ab6-a46c-4224-87f0-0e0f863e9168",
   "metadata": {},
   "outputs": [
    {
     "data": {
      "text/plain": [
       "Index                      0\n",
       "Accident_Severity          0\n",
       "Accident Date              0\n",
       "Latitude                   0\n",
       "Light_Conditions           0\n",
       "District Area              0\n",
       "Longitude                  0\n",
       "Number_of_Casualties       0\n",
       "Number_of_Vehicles         0\n",
       "Road_Surface_Conditions    0\n",
       "Road_Type                  0\n",
       "Urban_or_Rural_Area        0\n",
       "Weather_Conditions         0\n",
       "Vehicle_Type               0\n",
       "Year                       0\n",
       "Month                      0\n",
       "Day                        0\n",
       "DayOfWeek                  0\n",
       "dtype: int64"
      ]
     },
     "execution_count": 23,
     "metadata": {},
     "output_type": "execute_result"
    }
   ],
   "source": [
    "accident.isnull().sum()"
   ]
  },
  {
   "cell_type": "markdown",
   "id": "7616dc9b-55e3-4350-a444-e95753b1da98",
   "metadata": {},
   "source": [
    "<h1>INSIGHT 3</h1>\n",
    "<H1>Which light conditions are most frequently associated with accidents?</H1>"
   ]
  },
  {
   "cell_type": "code",
   "execution_count": 24,
   "id": "c42d7980-4ae5-46e6-964d-ec1fc3be3b4e",
   "metadata": {},
   "outputs": [
    {
     "name": "stdout",
     "output_type": "stream",
     "text": [
      "Most Common Light Conditions:\n",
      " Light_Conditions\n",
      "Daylight                       484880\n",
      "Darkness - lights lit          129335\n",
      "Darkness - no lighting          37437\n",
      "Darkness - lighting unknown      6484\n",
      "Darkness - lights unlit          2543\n",
      "Name: count, dtype: int64\n"
     ]
    }
   ],
   "source": [
    "light_conditions = accident['Light_Conditions'].value_counts()\n",
    "print(\"Most Common Light Conditions:\\n\", light_conditions)"
   ]
  },
  {
   "cell_type": "markdown",
   "id": "cc96906d-07de-43f5-9749-dfb6c310ff78",
   "metadata": {},
   "source": [
    "<h3>-The result shows that daylight conditions account for the highest number of accidents, with a total of 484,880 incidents recorded.</h3>"
   ]
  },
  {
   "cell_type": "markdown",
   "id": "c5c5f1bd-3716-4656-ab8e-25a98c939a27",
   "metadata": {},
   "source": [
    "<h1>INSIGHT 4</h1>\n",
    "<H1> What percentage of accidents occur in urban vs. rural areas?<H1>"
   ]
  },
  {
   "cell_type": "code",
   "execution_count": 25,
   "id": "bfb05839-9c23-4e92-9039-4690feacf70b",
   "metadata": {},
   "outputs": [
    {
     "name": "stdout",
     "output_type": "stream",
     "text": [
      "Urban vs Rural Accidents:\n",
      " Urban_or_Rural_Area\n",
      "Urban          63.822673\n",
      "Rural          36.173391\n",
      "unaccounted     0.002270\n",
      "Unallocated     0.001665\n",
      "Name: proportion, dtype: float64\n"
     ]
    }
   ],
   "source": [
    "urban_rural = accident['Urban_or_Rural_Area'].value_counts(normalize=True) * 100\n",
    "print(\"Urban vs Rural Accidents:\\n\", urban_rural)"
   ]
  },
  {
   "cell_type": "markdown",
   "id": "37778f95-ebed-4e71-94f3-f8300971bd30",
   "metadata": {},
   "source": [
    "<h3>-The result shows that urban areas account for 63.82% of accidents, compared to 36.17% in rural areas, indicating that urban regions are significantly more prone to accidents. </h3>"
   ]
  },
  {
   "cell_type": "markdown",
   "id": "06dbfa3c-2d5c-4ace-a943-0d1192d9886f",
   "metadata": {},
   "source": [
    "<h1>INSIGHT 5</h1>\n",
    "<H1>Which weather conditions are most associated with accidents?</H1>"
   ]
  },
  {
   "cell_type": "code",
   "execution_count": 26,
   "id": "401cb904-0ada-4c59-a83b-daab31cb711b",
   "metadata": {},
   "outputs": [
    {
     "name": "stdout",
     "output_type": "stream",
     "text": [
      "Accidents by Weather Conditions:\n",
      " Weather_Conditions\n",
      "Fine no high winds       520885\n",
      "Raining no high winds     79696\n",
      "Other                     17150\n",
      "unaccounted               14128\n",
      "Raining + high winds       9615\n",
      "Fine + high winds          8554\n",
      "Snowing no high winds      6238\n",
      "Fog or mist                3528\n",
      "Snowing + high winds        885\n",
      "Name: count, dtype: int64\n"
     ]
    }
   ],
   "source": [
    "weather_conditions = accident['Weather_Conditions'].value_counts()\n",
    "print(\"Accidents by Weather Conditions:\\n\", weather_conditions)"
   ]
  },
  {
   "cell_type": "markdown",
   "id": "8a3eade2-0b9d-48ed-bf07-43ae5cf51c34",
   "metadata": {},
   "source": [
    "<h3>-The result shows that among weather conditions, \"Fine weather with no high winds\" leads in accident frequency, while \"snowing with high winds\" has the lowest accident rate.</h3>"
   ]
  },
  {
   "cell_type": "markdown",
   "id": "b2b57095-39ec-4283-a495-285dd54fd0ac",
   "metadata": {},
   "source": [
    "<h1>INSIGHT 6</h1>\n",
    "<H1>Which road surface conditions are most common during accidents?</H1>"
   ]
  },
  {
   "cell_type": "code",
   "execution_count": 27,
   "id": "8dc730ba-86ef-4b13-9453-dc7383e36118",
   "metadata": {},
   "outputs": [
    {
     "name": "stdout",
     "output_type": "stream",
     "text": [
      "Accidents by Road Surface Conditions:\n",
      " Road_Surface_Conditions\n",
      "Dry                     447821\n",
      "Wet or damp             186708\n",
      "Frost or ice             18517\n",
      "Snow                      5890\n",
      "Flood over 3cm. deep      1017\n",
      "unaccounted                726\n",
      "Name: count, dtype: int64\n"
     ]
    }
   ],
   "source": [
    "road_surface = accident['Road_Surface_Conditions'].value_counts()\n",
    "print(\"Accidents by Road Surface Conditions:\\n\", road_surface)"
   ]
  },
  {
   "cell_type": "markdown",
   "id": "52b076ba-bd6a-41f6-ad1d-184a5ade1436",
   "metadata": {},
   "source": [
    "<h3>-The result shows that dry road surfaces are the most prone to accidents, which may initially seem counterintuitive given common assumptions that wet, icy, or slippery conditions pose greater risks. </h3>"
   ]
  },
  {
   "cell_type": "markdown",
   "id": "43d229b1-29ae-470e-a31b-a7e12e8c5f7d",
   "metadata": {},
   "source": [
    "<h1>INSIGHT 7</h1>\n",
    "<H1>Which district areas have the highest number of accidents?</H1>"
   ]
  },
  {
   "cell_type": "code",
   "execution_count": 28,
   "id": "b9217443-69a9-44a5-a0f8-74dc4d3081b2",
   "metadata": {},
   "outputs": [
    {
     "name": "stdout",
     "output_type": "stream",
     "text": [
      "Top 10 Most Dangerous District Areas:\n",
      " District Area\n",
      "Birmingham          13491\n",
      "Leeds                8898\n",
      "Manchester           6720\n",
      "Bradford             6212\n",
      "Sheffield            5710\n",
      "Westminster          5706\n",
      "Liverpool            5587\n",
      "Glasgow City         4942\n",
      "Bristol, City of     4819\n",
      "Kirklees             4690\n",
      "dtype: int64\n"
     ]
    }
   ],
   "source": [
    "district_accidents = accident.groupby('District Area').size().sort_values(ascending=False)\n",
    "print(\"Top 10 Most Dangerous District Areas:\\n\", district_accidents.head(10))"
   ]
  },
  {
   "cell_type": "markdown",
   "id": "1db33add-b980-4680-9de7-a4afea7bb040",
   "metadata": {},
   "source": [
    "<h3>-The result shows that the Birmingham area is the most dangerous in terms of accident frequency, with a total of 13,491 recorded accidents.</h3>"
   ]
  },
  {
   "cell_type": "markdown",
   "id": "21da4a14-d512-40ed-8f8f-c39e397556ae",
   "metadata": {},
   "source": [
    "<h1>INSIGHT 8</h1>\n",
    "<H1>Which vehicle types are most frequently involved in accidents?</H1>"
   ]
  },
  {
   "cell_type": "code",
   "execution_count": 29,
   "id": "33256600-d15e-4a09-976a-26a05502b695",
   "metadata": {},
   "outputs": [
    {
     "name": "stdout",
     "output_type": "stream",
     "text": [
      "Vehicle Types Involved in Accidents:\n",
      " Vehicle_Type\n",
      "Car                                      497992\n",
      "Van / Goods 3.5 tonnes mgw or under       34160\n",
      "Bus or coach (17 or more pass seats)      25878\n",
      "Motorcycle over 500cc                     25657\n",
      "Goods 7.5 tonnes mgw and over             17307\n",
      "Motorcycle 125cc and under                15269\n",
      "Taxi/Private hire car                     13294\n",
      "Motorcycle over 125cc and up to 500cc      7656\n",
      "Motorcycle 50cc and under                  7603\n",
      "Goods over 3.5t. and under 7.5t            6096\n",
      "Other vehicle                              5637\n",
      "Minibus (8 - 16 passenger seats)           1976\n",
      "Agricultural vehicle                       1947\n",
      "Pedal cycle                                 197\n",
      "Data missing or out of range                  6\n",
      "Ridden horse                                  4\n",
      "Name: count, dtype: int64\n"
     ]
    }
   ],
   "source": [
    "vehicle_types = accident['Vehicle_Type'].value_counts()\n",
    "print(\"Vehicle Types Involved in Accidents:\\n\", vehicle_types)"
   ]
  },
  {
   "cell_type": "markdown",
   "id": "c661286f-3c16-4aed-9606-268524de8c10",
   "metadata": {},
   "source": [
    "<h3>-The result shows that cars are the most common vehicle type involved in accidents, which aligns with their prevalence on roads and high usage rates.</h3>"
   ]
  },
  {
   "cell_type": "markdown",
   "id": "d2bd5e06-9d19-4528-ae3b-287b26fd3011",
   "metadata": {},
   "source": [
    "<h1>INSIGHT 9</h1>\n",
    "<H1>What is the average number of casualties per accident?</H1>"
   ]
  },
  {
   "cell_type": "code",
   "execution_count": 30,
   "id": "dfbb66d9-c3a3-48ee-a027-55847364595f",
   "metadata": {},
   "outputs": [
    {
     "name": "stdout",
     "output_type": "stream",
     "text": [
      "Average Number of Casualties per Accident: 1.36\n"
     ]
    }
   ],
   "source": [
    "avg_casualties = accident['Number_of_Casualties'].mean()\n",
    "print(f\"Average Number of Casualties per Accident: {avg_casualties:.2f}\")"
   ]
  },
  {
   "cell_type": "markdown",
   "id": "def301a7-1b2a-4380-8cb9-74539799ea6d",
   "metadata": {},
   "source": [
    "<H3>-The result shows that the average number of casualties per accident is 1.36, indicating that each collision typically results in slightly more than one injury or fatality.</H3>"
   ]
  },
  {
   "cell_type": "markdown",
   "id": "4fe483d8-3122-4d8e-9b7d-bd3c40afd454",
   "metadata": {},
   "source": [
    "<h1>INSIGHT 10</h1>\n",
    "<H1> Is there a correlation between the number of vehicles and casualties?</H1>"
   ]
  },
  {
   "cell_type": "code",
   "execution_count": 31,
   "id": "c3524a7d-8894-4a02-b751-5356fa0e7b39",
   "metadata": {},
   "outputs": [
    {
     "name": "stdout",
     "output_type": "stream",
     "text": [
      "Correlation Between Vehicles and Casualties: 0.23\n"
     ]
    }
   ],
   "source": [
    "correlation = accident[['Number_of_Vehicles', 'Number_of_Casualties']].corr().iloc[0, 1]\n",
    "print(f\"Correlation Between Vehicles and Casualties: {correlation:.2f}\")"
   ]
  },
  {
   "cell_type": "markdown",
   "id": "e5401ca7-b519-47b5-a8d2-fced3f11c1d7",
   "metadata": {},
   "source": [
    "<h3>-The result shows that the correlation between the number of vehicles and casualties is 0.23, indicating a weak positive relationship</H3>"
   ]
  },
  {
   "cell_type": "markdown",
   "id": "0081f425-f6ce-4eb7-97b3-ecc4eb0b68bc",
   "metadata": {},
   "source": [
    "<h1>INSIGHT 11</h1>\n",
    "<H1>Which road types have the highest accident rates?</H1>"
   ]
  },
  {
   "cell_type": "code",
   "execution_count": 32,
   "id": "5a690e6d-4460-4d8a-b6db-a54f38ffda70",
   "metadata": {},
   "outputs": [
    {
     "name": "stdout",
     "output_type": "stream",
     "text": [
      "Accidents by Road Type:\n",
      " Road_Type\n",
      "Single carriageway    492143\n",
      "Dual carriageway       99424\n",
      "Roundabout             43992\n",
      "One way street         13559\n",
      "Slip road               7041\n",
      "unaccounted             4520\n",
      "Name: count, dtype: int64\n"
     ]
    }
   ],
   "source": [
    "road_type_counts = accident['Road_Type'].value_counts()\n",
    "print(\"Accidents by Road Type:\\n\", road_type_counts)"
   ]
  },
  {
   "cell_type": "markdown",
   "id": "88fcfbb6-34ed-4328-a193-32f7393be6bc",
   "metadata": {},
   "source": [
    "<H3>-The result shows that among all road types, single carriageways are more prone to accidents.</H3>"
   ]
  },
  {
   "cell_type": "markdown",
   "id": "e8c15cea-84b0-4038-82a8-380d0873f497",
   "metadata": {},
   "source": [
    "<h1>INSIGHT 12</h1>\n",
    "<H1>What are the latitude and longitude ranges for accidents?</H1>"
   ]
  },
  {
   "cell_type": "code",
   "execution_count": 33,
   "id": "09c2c5b0-962f-4a3b-a081-85c457434854",
   "metadata": {},
   "outputs": [
    {
     "name": "stdout",
     "output_type": "stream",
     "text": [
      "Geographical Summary:\n",
      "             Latitude      Longitude\n",
      "count  660679.000000  660679.000000\n",
      "mean       52.553862      -1.431193\n",
      "std         1.406896       1.383305\n",
      "min        49.914430      -7.516225\n",
      "25%        51.490696      -2.332191\n",
      "50%        52.315755      -1.411613\n",
      "75%        53.453444      -0.232901\n",
      "max        60.757544       1.762010\n"
     ]
    }
   ],
   "source": [
    "geo_summary = accident[['Latitude', 'Longitude']].describe()\n",
    "print(\"Geographical Summary:\\n\", geo_summary)"
   ]
  },
  {
   "cell_type": "markdown",
   "id": "e030598d-39e6-4bac-8000-1dd32732a871",
   "metadata": {},
   "source": [
    "<h1>INSIGHT 13</h1>\n",
    "<H1>Are accidents more frequent during the day or night?</H1>"
   ]
  },
  {
   "cell_type": "code",
   "execution_count": 34,
   "id": "65553167-3d27-43f5-828c-74c275485838",
   "metadata": {},
   "outputs": [
    {
     "name": "stdout",
     "output_type": "stream",
     "text": [
      "Day vs Night Accidents:\n",
      " Light_Conditions\n",
      "Day      484880\n",
      "Night    175799\n",
      "Name: count, dtype: int64\n"
     ]
    }
   ],
   "source": [
    "day_night = accident['Light_Conditions'].apply(lambda x: 'Day' if 'day' in x.lower() else 'Night')\n",
    "day_night_counts = day_night.value_counts()\n",
    "print(\"Day vs Night Accidents:\\n\", day_night_counts)"
   ]
  },
  {
   "cell_type": "markdown",
   "id": "5761ca02-8f2a-472a-9bd2-f7db44076fb0",
   "metadata": {},
   "source": [
    "<H3>-The result shows that accidents are more prone to occur during daytime hours compared to nighttime.</H3>"
   ]
  },
  {
   "cell_type": "markdown",
   "id": "8f2700aa-065f-40e4-a43c-5f0d23e9fcde",
   "metadata": {},
   "source": [
    "<h1>INSIGHT 14</h1>\n",
    "<H1>Do accidents peak during certain seasons?</H1>"
   ]
  },
  {
   "cell_type": "code",
   "execution_count": 35,
   "id": "838d43a5-bdfd-49dd-bfcc-e540b93911a3",
   "metadata": {},
   "outputs": [
    {
     "name": "stdout",
     "output_type": "stream",
     "text": [
      "Accidents by Season:\n",
      " Season\n",
      "Autumn    176459\n",
      "Summer    167839\n",
      "Spring    162182\n",
      "Winter    154199\n",
      "Name: count, dtype: int64\n"
     ]
    }
   ],
   "source": [
    "accident['Month'] = accident['Accident Date'].dt.month\n",
    "seasons = {1: 'Winter', 2: 'Winter', 3: 'Spring', 4: 'Spring', 5: 'Spring',\n",
    "           6: 'Summer', 7: 'Summer', 8: 'Summer', 9: 'Autumn', 10: 'Autumn',\n",
    "           11: 'Autumn', 12: 'Winter'}\n",
    "accident['Season'] = accident['Month'].map(seasons)\n",
    "season_counts = accident['Season'].value_counts()\n",
    "print(\"Accidents by Season:\\n\", season_counts)"
   ]
  },
  {
   "cell_type": "markdown",
   "id": "18665c7b-48e4-4494-bada-b174330d8245",
   "metadata": {},
   "source": [
    "<H3>-The result shows that among all four seasons, autumn has the highest rate of accidents.</H3>"
   ]
  },
  {
   "cell_type": "markdown",
   "id": "14ad37c0-17a1-42f4-bc28-aa00f9b42cb0",
   "metadata": {},
   "source": [
    "<h1>INSIGHT 15</h1>\n",
    "<H1>Identify potential causes by combining features.</H1>"
   ]
  },
  {
   "cell_type": "code",
   "execution_count": 36,
   "id": "82757b5e-620f-4609-bd0f-fcd544d310ef",
   "metadata": {},
   "outputs": [
    {
     "name": "stdout",
     "output_type": "stream",
     "text": [
      "Top Causes of Accidents:\n",
      "        Weather_Conditions Road_Surface_Conditions  Counts\n",
      "6      Fine no high winds                     Dry  427799\n",
      "10     Fine no high winds             Wet or damp   81178\n",
      "33  Raining no high winds             Wet or damp   78087\n",
      "45            unaccounted                     Dry   11223\n",
      "8      Fine no high winds            Frost or ice   10653\n",
      "22                  Other             Wet or damp    9366\n",
      "28   Raining + high winds             Wet or damp    9184\n",
      "0       Fine + high winds                     Dry    5023\n",
      "20                  Other            Frost or ice    4718\n",
      "43  Snowing no high winds                    Snow    3659\n"
     ]
    }
   ],
   "source": [
    "top_causes = accident.groupby(['Weather_Conditions', 'Road_Surface_Conditions']).size().reset_index(name='Counts')\n",
    "top_causes = top_causes.sort_values(by='Counts', ascending=False).head(10)\n",
    "print(\"Top Causes of Accidents:\\n\", top_causes)"
   ]
  },
  {
   "cell_type": "markdown",
   "id": "352d9d2d-3543-4c7e-8d49-99c84b935429",
   "metadata": {},
   "source": [
    "<h1>INSIGHT 16</h1>\n",
    "<H1>What factors are most common in fatal accidents<H1>"
   ]
  },
  {
   "cell_type": "code",
   "execution_count": 37,
   "id": "8b8e29ae-c212-43fa-b982-4e82c83d41b3",
   "metadata": {},
   "outputs": [
    {
     "name": "stdout",
     "output_type": "stream",
     "text": [
      "Summary of Fatal Accidents:\n",
      "            Index Accident_Severity                  Accident Date  \\\n",
      "count       8661              8661                           8661   \n",
      "unique      5095                 1                            NaN   \n",
      "top     2.01E+12             Fatal                            NaN   \n",
      "freq        3567              8661                            NaN   \n",
      "mean         NaN               NaN  2020-10-14 09:03:40.713543680   \n",
      "min          NaN               NaN            2019-01-01 00:00:00   \n",
      "25%          NaN               NaN            2019-10-25 00:00:00   \n",
      "50%          NaN               NaN            2020-09-18 00:00:00   \n",
      "75%          NaN               NaN            2021-09-09 00:00:00   \n",
      "max          NaN               NaN            2022-12-31 00:00:00   \n",
      "std          NaN               NaN                            NaN   \n",
      "\n",
      "           Latitude Light_Conditions District Area    Longitude  \\\n",
      "count   8661.000000             8661          8661  8661.000000   \n",
      "unique          NaN                5           422          NaN   \n",
      "top             NaN         Daylight    Birmingham          NaN   \n",
      "freq            NaN             5076           105          NaN   \n",
      "mean      52.696000              NaN           NaN    -1.546123   \n",
      "min       50.083471              NaN           NaN    -6.430902   \n",
      "25%       51.517812              NaN           NaN    -2.522856   \n",
      "50%       52.436049              NaN           NaN    -1.499085   \n",
      "75%       53.501361              NaN           NaN    -0.362033   \n",
      "max       60.321208              NaN           NaN     1.751490   \n",
      "std        1.538523              NaN           NaN     1.450183   \n",
      "\n",
      "        Number_of_Casualties  Number_of_Vehicles Road_Surface_Conditions  \\\n",
      "count            8661.000000         8661.000000                    8661   \n",
      "unique                   NaN                 NaN                       6   \n",
      "top                      NaN                 NaN                     Dry   \n",
      "freq                     NaN                 NaN                    5788   \n",
      "mean                1.903129            1.786976                     NaN   \n",
      "min                 1.000000            1.000000                     NaN   \n",
      "25%                 1.000000            1.000000                     NaN   \n",
      "50%                 1.000000            2.000000                     NaN   \n",
      "75%                 2.000000            2.000000                     NaN   \n",
      "max                68.000000           28.000000                     NaN   \n",
      "std                 1.901614            1.022719                     NaN   \n",
      "\n",
      "                 Road_Type Urban_or_Rural_Area  Weather_Conditions  \\\n",
      "count                 8661                8661                8661   \n",
      "unique                   6                   2                   9   \n",
      "top     Single carriageway               Rural  Fine no high winds   \n",
      "freq                  6527                5601                7100   \n",
      "mean                   NaN                 NaN                 NaN   \n",
      "min                    NaN                 NaN                 NaN   \n",
      "25%                    NaN                 NaN                 NaN   \n",
      "50%                    NaN                 NaN                 NaN   \n",
      "75%                    NaN                 NaN                 NaN   \n",
      "max                    NaN                 NaN                 NaN   \n",
      "std                    NaN                 NaN                 NaN   \n",
      "\n",
      "       Vehicle_Type         Year        Month          Day    DayOfWeek  \\\n",
      "count          8661  8661.000000  8661.000000  8661.000000  8661.000000   \n",
      "unique           14          NaN          NaN          NaN          NaN   \n",
      "top             Car          NaN          NaN          NaN          NaN   \n",
      "freq           6577          NaN          NaN          NaN          NaN   \n",
      "mean            NaN  2020.281838     6.590232    15.632606     3.098487   \n",
      "min             NaN  2019.000000     1.000000     1.000000     0.000000   \n",
      "25%             NaN  2019.000000     4.000000     8.000000     1.000000   \n",
      "50%             NaN  2020.000000     7.000000    16.000000     3.000000   \n",
      "75%             NaN  2021.000000    10.000000    23.000000     5.000000   \n",
      "max             NaN  2022.000000    12.000000    31.000000     6.000000   \n",
      "std             NaN     1.089475     3.416688     8.862544     2.095552   \n",
      "\n",
      "        Season  \n",
      "count     8661  \n",
      "unique       4  \n",
      "top     Autumn  \n",
      "freq      2268  \n",
      "mean       NaN  \n",
      "min        NaN  \n",
      "25%        NaN  \n",
      "50%        NaN  \n",
      "75%        NaN  \n",
      "max        NaN  \n",
      "std        NaN  \n"
     ]
    }
   ],
   "source": [
    "fatal_accidents = accident[accident['Accident_Severity'] == 'Fatal']\n",
    "fatal_summary = fatal_accidents.describe(include='all')\n",
    "print(\"Summary of Fatal Accidents:\\n\", fatal_summary)"
   ]
  },
  {
   "cell_type": "markdown",
   "id": "f774cca2-1b21-4f0a-9ed9-0a98194d9015",
   "metadata": {},
   "source": [
    "<h1>INSIGHT 17</h1>\n",
    "<H1>Which vehicle types result in the highest casualty rates?</H1>"
   ]
  },
  {
   "cell_type": "code",
   "execution_count": 38,
   "id": "2c7d92f0-19f3-4b2d-b8c7-c599d43a46cc",
   "metadata": {},
   "outputs": [
    {
     "name": "stdout",
     "output_type": "stream",
     "text": [
      "Casualty Rate by Vehicle Type:\n",
      " Vehicle_Type\n",
      "Data missing or out of range             1.500000\n",
      "Pedal cycle                              1.370558\n",
      "Taxi/Private hire car                    1.368663\n",
      "Goods over 3.5t. and under 7.5t          1.362861\n",
      "Motorcycle over 500cc                    1.359434\n",
      "Car                                      1.358841\n",
      "Van / Goods 3.5 tonnes mgw or under      1.354537\n",
      "Goods 7.5 tonnes mgw and over            1.351881\n",
      "Bus or coach (17 or more pass seats)     1.349216\n",
      "Minibus (8 - 16 passenger seats)         1.345648\n",
      "Motorcycle over 125cc and up to 500cc    1.343521\n",
      "Agricultural vehicle                     1.342065\n",
      "Other vehicle                            1.340075\n",
      "Motorcycle 50cc and under                1.337235\n",
      "Motorcycle 125cc and under               1.332635\n",
      "Ridden horse                             1.250000\n",
      "Name: Number_of_Casualties, dtype: float64\n"
     ]
    }
   ],
   "source": [
    "casualty_by_vehicle = accident.groupby('Vehicle_Type')['Number_of_Casualties'].mean().sort_values(ascending=False)\n",
    "print(\"Casualty Rate by Vehicle Type:\\n\", casualty_by_vehicle)"
   ]
  },
  {
   "cell_type": "markdown",
   "id": "c55559c7-d348-4d2b-b63e-4a3ae2ccf397",
   "metadata": {},
   "source": [
    "<H3>-The result shows that the vehicle type categorized as \"Data missing or out of range\" accounted for the highest casualty rate, with a percentage of 1.500000</H3>"
   ]
  },
  {
   "cell_type": "markdown",
   "id": "41a4167c-aa55-4707-9281-e0eed3b99c96",
   "metadata": {},
   "source": [
    "<h1>INSIGHT 18</h1>\n",
    "<H1>Are accidents more frequent on weekends or weekdays?</H1>"
   ]
  },
  {
   "cell_type": "code",
   "execution_count": 39,
   "id": "b49556ed-d583-4eae-9485-df25d7127e3a",
   "metadata": {},
   "outputs": [
    {
     "name": "stdout",
     "output_type": "stream",
     "text": [
      "Weekend vs Weekday Accidents:\n",
      " Day_of_Week\n",
      "Weekday    464199\n",
      "Weekend    196480\n",
      "Name: count, dtype: int64\n"
     ]
    }
   ],
   "source": [
    "accident['Day_of_Week'] = accident['Accident Date'].dt.day_name()\n",
    "weekend_weekday = accident['Day_of_Week'].apply(lambda x: 'Weekend' if x in ['Saturday', 'Sunday'] else 'Weekday')\n",
    "weekend_weekday_counts = weekend_weekday.value_counts()\n",
    "print(\"Weekend vs Weekday Accidents:\\n\", weekend_weekday_counts)"
   ]
  },
  {
   "cell_type": "markdown",
   "id": "3c760d38-cb84-46e7-bb6f-4566113411d4",
   "metadata": {},
   "source": [
    "<H3>-The result shows that weekdays are associated with higher accident rates compared to weekends.</H3>"
   ]
  },
  {
   "cell_type": "markdown",
   "id": "e73606ca-ed6a-420c-895b-caf088004e2c",
   "metadata": {},
   "source": [
    "<h1>INSIGHT 19</h1>\n",
    "<H1> Identify geographical hotspots based on latitude and longitude.</H1>"
   ]
  },
  {
   "cell_type": "code",
   "execution_count": 40,
   "id": "69d7f2ee-3f97-4b2e-9ab4-3d21e96053ae",
   "metadata": {},
   "outputs": [
    {
     "name": "stdout",
     "output_type": "stream",
     "text": [
      "Top 10 Accident Hotspots:\n",
      "              Lat_Bin            Lon_Bin  Counts\n",
      "17  (50.999, 52.083]  (-1.021, -0.0936]  106119\n",
      "18  (50.999, 52.083]   (-0.0936, 0.834]   71839\n",
      "26  (52.083, 53.167]   (-1.949, -1.021]   57684\n",
      "35  (53.167, 54.252]   (-2.877, -1.949]   55517\n",
      "36  (53.167, 54.252]   (-1.949, -1.021]   50215\n",
      "25  (52.083, 53.167]   (-2.877, -1.949]   33614\n",
      "46  (54.252, 55.336]   (-1.949, -1.021]   25901\n",
      "15  (50.999, 52.083]   (-2.877, -1.949]   21414\n",
      "34  (53.167, 54.252]   (-3.805, -2.877]   20456\n",
      "27  (52.083, 53.167]  (-1.021, -0.0936]   18333\n"
     ]
    },
    {
     "name": "stderr",
     "output_type": "stream",
     "text": [
      "C:\\Users\\LAB5-StudentPC13\\AppData\\Local\\Temp\\ipykernel_2732\\3595062550.py:3: FutureWarning: The default of observed=False is deprecated and will be changed to True in a future version of pandas. Pass observed=False to retain current behavior or observed=True to adopt the future default and silence this warning.\n",
      "  hotspots = accident.groupby(['Lat_Bin', 'Lon_Bin']).size().reset_index(name='Counts')\n"
     ]
    }
   ],
   "source": [
    "accident['Lat_Bin'] = pd.cut(accident['Latitude'], bins=10)\n",
    "accident['Lon_Bin'] = pd.cut(accident['Longitude'], bins=10)\n",
    "hotspots = accident.groupby(['Lat_Bin', 'Lon_Bin']).size().reset_index(name='Counts')\n",
    "hotspots = hotspots.sort_values(by='Counts', ascending=False).head(10)\n",
    "print(\"Top 10 Accident Hotspots:\\n\", hotspots)"
   ]
  },
  {
   "cell_type": "markdown",
   "id": "3d199093-ae5b-4692-95aa-8818ee70fa89",
   "metadata": {},
   "source": [
    "<h1>INSIGHT 20</h1>\n",
    "<H1>Most dangerous weather condition for accidents</H1>"
   ]
  },
  {
   "cell_type": "code",
   "execution_count": 41,
   "id": "388ca1e0-9944-4a5d-a926-a376bb7cc68c",
   "metadata": {},
   "outputs": [
    {
     "data": {
      "text/plain": [
       "Weather_Conditions     Accident_Severity\n",
       "Fine + high winds      Slight                 7134\n",
       "                       Serious                1245\n",
       "                       Fatal                   175\n",
       "Fine no high winds     Slight               441739\n",
       "                       Serious               72046\n",
       "                       Fatal                  7100\n",
       "Fog or mist            Slight                 2963\n",
       "                       Serious                 483\n",
       "                       Fatal                    82\n",
       "Other                  Slight                15184\n",
       "                       Serious                1801\n",
       "                       Fatal                   165\n",
       "Raining + high winds   Slight                 8209\n",
       "                       Serious                1261\n",
       "                       Fatal                   145\n",
       "Raining no high winds  Slight                69380\n",
       "                       Serious                9468\n",
       "                       Fatal                   848\n",
       "Snowing + high winds   Slight                  773\n",
       "                       Serious                 109\n",
       "                       Fatal                     3\n",
       "Snowing no high winds  Slight                 5637\n",
       "                       Serious                 565\n",
       "                       Fatal                    36\n",
       "unaccounted            Slight                12782\n",
       "                       Serious                1239\n",
       "                       Fatal                   107\n",
       "Name: count, dtype: int64"
      ]
     },
     "execution_count": 41,
     "metadata": {},
     "output_type": "execute_result"
    }
   ],
   "source": [
    "accident.groupby(\"Weather_Conditions\")[\"Accident_Severity\"].value_counts()"
   ]
  },
  {
   "cell_type": "markdown",
   "id": "f15cf6ba-6d2f-4a24-8628-accc4924dbb3",
   "metadata": {},
   "source": [
    "<H3>The result shows that among all weather conditions, incidents of \"fine weather with no high winds\" were associated with the highest number of accidents.</H3>"
   ]
  },
  {
   "cell_type": "markdown",
   "id": "af14b0b8-010f-4dca-8b7a-44c9275d8019",
   "metadata": {},
   "source": [
    "<h1>DATA ANALYTICS</h1>\n",
    "<H1>ANALYZING EACH FIELD FROM THE DATA SET</H1>"
   ]
  },
  {
   "cell_type": "markdown",
   "id": "425d4dca-b34d-40ae-86cc-e29110b4a9c6",
   "metadata": {},
   "source": [
    "<H1>UniVariate</H1>"
   ]
  },
  {
   "cell_type": "code",
   "execution_count": 42,
   "id": "5126ece7-da67-4d92-b12a-5ab4734f202b",
   "metadata": {},
   "outputs": [],
   "source": [
    "df_2019 = accident[accident['Year'] == 2019]"
   ]
  },
  {
   "cell_type": "markdown",
   "id": "c2115ea4-46ce-4c4b-b77c-97c9effd1149",
   "metadata": {},
   "source": [
    "<h1>UniVariate Analysis from year 2019</h1>\n",
    "<h1>Question: How many incidents happend under light conditions?</h1>"
   ]
  },
  {
   "cell_type": "code",
   "execution_count": 43,
   "id": "e4961268-8f82-487b-b44b-1caaad5b0372",
   "metadata": {},
   "outputs": [
    {
     "data": {
      "text/plain": [
       "Light_Conditions\n",
       "Daylight                       133042\n",
       "Darkness - lights lit           35769\n",
       "Darkness - no lighting          10842\n",
       "Darkness - lighting unknown      1768\n",
       "Darkness - lights unlit           694\n",
       "Name: count, dtype: int64"
      ]
     },
     "execution_count": 43,
     "metadata": {},
     "output_type": "execute_result"
    }
   ],
   "source": [
    "df_2019['Light_Conditions'].value_counts()"
   ]
  },
  {
   "cell_type": "code",
   "execution_count": 44,
   "id": "edbde4e3-1cf2-45df-b831-5100ec9aa400",
   "metadata": {},
   "outputs": [
    {
     "data": {
      "text/plain": [
       "np.int64(182115)"
      ]
     },
     "execution_count": 44,
     "metadata": {},
     "output_type": "execute_result"
    }
   ],
   "source": [
    "df_2019['Light_Conditions'].value_counts().sum()"
   ]
  },
  {
   "cell_type": "markdown",
   "id": "77f27ec4-f5bc-4242-a0f3-92b622d080c3",
   "metadata": {},
   "source": [
    "<h1>Daylight Constitute to 132% of the total accidents from year 2019</h1>"
   ]
  },
  {
   "cell_type": "markdown",
   "id": "164bb4a0-e093-4d19-8323-f3e58346fc7e",
   "metadata": {},
   "source": [
    "<H1>BiVariate</H1>"
   ]
  },
  {
   "cell_type": "markdown",
   "id": "25735569-42b5-4980-8269-d9b5c7991453",
   "metadata": {},
   "source": [
    "<H1>MultiVariate</H1>"
   ]
  }
 ],
 "metadata": {
  "kernelspec": {
   "display_name": "Python 3 (ipykernel)",
   "language": "python",
   "name": "python3"
  },
  "language_info": {
   "codemirror_mode": {
    "name": "ipython",
    "version": 3
   },
   "file_extension": ".py",
   "mimetype": "text/x-python",
   "name": "python",
   "nbconvert_exporter": "python",
   "pygments_lexer": "ipython3",
   "version": "3.13.2"
  }
 },
 "nbformat": 4,
 "nbformat_minor": 5
}
